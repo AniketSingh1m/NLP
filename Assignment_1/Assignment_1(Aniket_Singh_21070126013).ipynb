{
 "cells": [
  {
   "cell_type": "markdown",
   "metadata": {
    "id": "UvQeBWAWsBbi"
   },
   "source": [
    "# <code style=\"background:white;color:#3EA99F\">                        ASSIGNMENT-1\n",
    "# <code style=\"background:white;color:#00B5E2\">            ANIKET SINGH  21070126013   AIML-A1\n",
    "### <code style=\"background:white;color:#00B5E2\">   Git Hub Repository:https://github.com/AniketSingh1m/NLP/tree/main/Assignment_1   "
   ]
  },
  {
   "cell_type": "code",
   "execution_count": 1,
   "metadata": {
    "id": "gGfVssIdIeXj"
   },
   "outputs": [],
   "source": [
    "# Importing the libraries for dataset manipulation operations\n",
    "import pandas as pd"
   ]
  },
  {
   "cell_type": "markdown",
   "metadata": {},
   "source": [
    "# <code style=\"background:white;color:#E2522F\">Mouting drive:"
   ]
  },
  {
   "cell_type": "code",
   "execution_count": 3,
   "metadata": {
    "colab": {
     "base_uri": "https://localhost:8080/"
    },
    "id": "5ckFQI9GKBab",
    "outputId": "18e00f1e-5c2d-422d-bbd0-c00340f9871d"
   },
   "outputs": [
    {
     "name": "stdout",
     "output_type": "stream",
     "text": [
      "Mounted at /content/gdrive/\n"
     ]
    }
   ],
   "source": [
    "# Mounting drive to google collab to access dataset\n",
    "from google.colab import drive\n",
    "drive.mount('/content/gdrive/', force_remount=True)"
   ]
  },
  {
   "cell_type": "markdown",
   "metadata": {},
   "source": [
    "# <code style=\"background:white;color:#E2522F\">Importing Dataset:"
   ]
  },
  {
   "cell_type": "code",
   "execution_count": 4,
   "metadata": {
    "colab": {
     "base_uri": "https://localhost:8080/",
     "height": 694
    },
    "id": "g0JKWz4SKd6S",
    "outputId": "5a5201b2-44b6-45a3-89c2-fc5b0c8bf57d"
   },
   "outputs": [
    {
     "data": {
      "text/html": [
       "\n",
       "  <div id=\"df-5d2cb81f-82ba-4167-939d-3e6733f3a328\" class=\"colab-df-container\">\n",
       "    <div>\n",
       "<style scoped>\n",
       "    .dataframe tbody tr th:only-of-type {\n",
       "        vertical-align: middle;\n",
       "    }\n",
       "\n",
       "    .dataframe tbody tr th {\n",
       "        vertical-align: top;\n",
       "    }\n",
       "\n",
       "    .dataframe thead th {\n",
       "        text-align: right;\n",
       "    }\n",
       "</style>\n",
       "<table border=\"1\" class=\"dataframe\">\n",
       "  <thead>\n",
       "    <tr style=\"text-align: right;\">\n",
       "      <th></th>\n",
       "      <th>Id</th>\n",
       "      <th>ProductId</th>\n",
       "      <th>UserId</th>\n",
       "      <th>ProfileName</th>\n",
       "      <th>HelpfulnessNumerator</th>\n",
       "      <th>HelpfulnessDenominator</th>\n",
       "      <th>Score</th>\n",
       "      <th>Time</th>\n",
       "      <th>Summary</th>\n",
       "      <th>Text</th>\n",
       "    </tr>\n",
       "  </thead>\n",
       "  <tbody>\n",
       "    <tr>\n",
       "      <th>0</th>\n",
       "      <td>1</td>\n",
       "      <td>B001E4KFG0</td>\n",
       "      <td>A3SGXH7AUHU8GW</td>\n",
       "      <td>delmartian</td>\n",
       "      <td>1</td>\n",
       "      <td>1</td>\n",
       "      <td>5</td>\n",
       "      <td>1303862400</td>\n",
       "      <td>Good Quality Dog Food</td>\n",
       "      <td>I have bought several of the Vitality canned d...</td>\n",
       "    </tr>\n",
       "    <tr>\n",
       "      <th>1</th>\n",
       "      <td>2</td>\n",
       "      <td>B00813GRG4</td>\n",
       "      <td>A1D87F6ZCVE5NK</td>\n",
       "      <td>dll pa</td>\n",
       "      <td>0</td>\n",
       "      <td>0</td>\n",
       "      <td>1</td>\n",
       "      <td>1346976000</td>\n",
       "      <td>Not as Advertised</td>\n",
       "      <td>Product arrived labeled as Jumbo Salted Peanut...</td>\n",
       "    </tr>\n",
       "    <tr>\n",
       "      <th>2</th>\n",
       "      <td>3</td>\n",
       "      <td>B000LQOCH0</td>\n",
       "      <td>ABXLMWJIXXAIN</td>\n",
       "      <td>Natalia Corres \"Natalia Corres\"</td>\n",
       "      <td>1</td>\n",
       "      <td>1</td>\n",
       "      <td>4</td>\n",
       "      <td>1219017600</td>\n",
       "      <td>\"Delight\" says it all</td>\n",
       "      <td>This is a confection that has been around a fe...</td>\n",
       "    </tr>\n",
       "    <tr>\n",
       "      <th>3</th>\n",
       "      <td>4</td>\n",
       "      <td>B000UA0QIQ</td>\n",
       "      <td>A395BORC6FGVXV</td>\n",
       "      <td>Karl</td>\n",
       "      <td>3</td>\n",
       "      <td>3</td>\n",
       "      <td>2</td>\n",
       "      <td>1307923200</td>\n",
       "      <td>Cough Medicine</td>\n",
       "      <td>If you are looking for the secret ingredient i...</td>\n",
       "    </tr>\n",
       "    <tr>\n",
       "      <th>4</th>\n",
       "      <td>5</td>\n",
       "      <td>B006K2ZZ7K</td>\n",
       "      <td>A1UQRSCLF8GW1T</td>\n",
       "      <td>Michael D. Bigham \"M. Wassir\"</td>\n",
       "      <td>0</td>\n",
       "      <td>0</td>\n",
       "      <td>5</td>\n",
       "      <td>1350777600</td>\n",
       "      <td>Great taffy</td>\n",
       "      <td>Great taffy at a great price.  There was a wid...</td>\n",
       "    </tr>\n",
       "  </tbody>\n",
       "</table>\n",
       "</div>\n",
       "    <div class=\"colab-df-buttons\">\n",
       "\n",
       "  <div class=\"colab-df-container\">\n",
       "    <button class=\"colab-df-convert\" onclick=\"convertToInteractive('df-5d2cb81f-82ba-4167-939d-3e6733f3a328')\"\n",
       "            title=\"Convert this dataframe to an interactive table.\"\n",
       "            style=\"display:none;\">\n",
       "\n",
       "  <svg xmlns=\"http://www.w3.org/2000/svg\" height=\"24px\" viewBox=\"0 -960 960 960\">\n",
       "    <path d=\"M120-120v-720h720v720H120Zm60-500h600v-160H180v160Zm220 220h160v-160H400v160Zm0 220h160v-160H400v160ZM180-400h160v-160H180v160Zm440 0h160v-160H620v160ZM180-180h160v-160H180v160Zm440 0h160v-160H620v160Z\"/>\n",
       "  </svg>\n",
       "    </button>\n",
       "\n",
       "  <style>\n",
       "    .colab-df-container {\n",
       "      display:flex;\n",
       "      gap: 12px;\n",
       "    }\n",
       "\n",
       "    .colab-df-convert {\n",
       "      background-color: #E8F0FE;\n",
       "      border: none;\n",
       "      border-radius: 50%;\n",
       "      cursor: pointer;\n",
       "      display: none;\n",
       "      fill: #1967D2;\n",
       "      height: 32px;\n",
       "      padding: 0 0 0 0;\n",
       "      width: 32px;\n",
       "    }\n",
       "\n",
       "    .colab-df-convert:hover {\n",
       "      background-color: #E2EBFA;\n",
       "      box-shadow: 0px 1px 2px rgba(60, 64, 67, 0.3), 0px 1px 3px 1px rgba(60, 64, 67, 0.15);\n",
       "      fill: #174EA6;\n",
       "    }\n",
       "\n",
       "    .colab-df-buttons div {\n",
       "      margin-bottom: 4px;\n",
       "    }\n",
       "\n",
       "    [theme=dark] .colab-df-convert {\n",
       "      background-color: #3B4455;\n",
       "      fill: #D2E3FC;\n",
       "    }\n",
       "\n",
       "    [theme=dark] .colab-df-convert:hover {\n",
       "      background-color: #434B5C;\n",
       "      box-shadow: 0px 1px 3px 1px rgba(0, 0, 0, 0.15);\n",
       "      filter: drop-shadow(0px 1px 2px rgba(0, 0, 0, 0.3));\n",
       "      fill: #FFFFFF;\n",
       "    }\n",
       "  </style>\n",
       "\n",
       "    <script>\n",
       "      const buttonEl =\n",
       "        document.querySelector('#df-5d2cb81f-82ba-4167-939d-3e6733f3a328 button.colab-df-convert');\n",
       "      buttonEl.style.display =\n",
       "        google.colab.kernel.accessAllowed ? 'block' : 'none';\n",
       "\n",
       "      async function convertToInteractive(key) {\n",
       "        const element = document.querySelector('#df-5d2cb81f-82ba-4167-939d-3e6733f3a328');\n",
       "        const dataTable =\n",
       "          await google.colab.kernel.invokeFunction('convertToInteractive',\n",
       "                                                    [key], {});\n",
       "        if (!dataTable) return;\n",
       "\n",
       "        const docLinkHtml = 'Like what you see? Visit the ' +\n",
       "          '<a target=\"_blank\" href=https://colab.research.google.com/notebooks/data_table.ipynb>data table notebook</a>'\n",
       "          + ' to learn more about interactive tables.';\n",
       "        element.innerHTML = '';\n",
       "        dataTable['output_type'] = 'display_data';\n",
       "        await google.colab.output.renderOutput(dataTable, element);\n",
       "        const docLink = document.createElement('div');\n",
       "        docLink.innerHTML = docLinkHtml;\n",
       "        element.appendChild(docLink);\n",
       "      }\n",
       "    </script>\n",
       "  </div>\n",
       "\n",
       "\n",
       "<div id=\"df-6b295ca9-310e-47b6-92bb-a8c7dad4f76a\">\n",
       "  <button class=\"colab-df-quickchart\" onclick=\"quickchart('df-6b295ca9-310e-47b6-92bb-a8c7dad4f76a')\"\n",
       "            title=\"Suggest charts.\"\n",
       "            style=\"display:none;\">\n",
       "\n",
       "<svg xmlns=\"http://www.w3.org/2000/svg\" height=\"24px\"viewBox=\"0 0 24 24\"\n",
       "     width=\"24px\">\n",
       "    <g>\n",
       "        <path d=\"M19 3H5c-1.1 0-2 .9-2 2v14c0 1.1.9 2 2 2h14c1.1 0 2-.9 2-2V5c0-1.1-.9-2-2-2zM9 17H7v-7h2v7zm4 0h-2V7h2v10zm4 0h-2v-4h2v4z\"/>\n",
       "    </g>\n",
       "</svg>\n",
       "  </button>\n",
       "\n",
       "<style>\n",
       "  .colab-df-quickchart {\n",
       "    background-color: #E8F0FE;\n",
       "    border: none;\n",
       "    border-radius: 50%;\n",
       "    cursor: pointer;\n",
       "    display: none;\n",
       "    fill: #1967D2;\n",
       "    height: 32px;\n",
       "    padding: 0 0 0 0;\n",
       "    width: 32px;\n",
       "  }\n",
       "\n",
       "  .colab-df-quickchart:hover {\n",
       "    background-color: #E2EBFA;\n",
       "    box-shadow: 0px 1px 2px rgba(60, 64, 67, 0.3), 0px 1px 3px 1px rgba(60, 64, 67, 0.15);\n",
       "    fill: #174EA6;\n",
       "  }\n",
       "\n",
       "  [theme=dark] .colab-df-quickchart {\n",
       "    background-color: #3B4455;\n",
       "    fill: #D2E3FC;\n",
       "  }\n",
       "\n",
       "  [theme=dark] .colab-df-quickchart:hover {\n",
       "    background-color: #434B5C;\n",
       "    box-shadow: 0px 1px 3px 1px rgba(0, 0, 0, 0.15);\n",
       "    filter: drop-shadow(0px 1px 2px rgba(0, 0, 0, 0.3));\n",
       "    fill: #FFFFFF;\n",
       "  }\n",
       "</style>\n",
       "\n",
       "  <script>\n",
       "    async function quickchart(key) {\n",
       "      const charts = await google.colab.kernel.invokeFunction(\n",
       "          'suggestCharts', [key], {});\n",
       "    }\n",
       "    (() => {\n",
       "      let quickchartButtonEl =\n",
       "        document.querySelector('#df-6b295ca9-310e-47b6-92bb-a8c7dad4f76a button');\n",
       "      quickchartButtonEl.style.display =\n",
       "        google.colab.kernel.accessAllowed ? 'block' : 'none';\n",
       "    })();\n",
       "  </script>\n",
       "</div>\n",
       "    </div>\n",
       "  </div>\n"
      ],
      "text/plain": [
       "   Id   ProductId          UserId                      ProfileName  \\\n",
       "0   1  B001E4KFG0  A3SGXH7AUHU8GW                       delmartian   \n",
       "1   2  B00813GRG4  A1D87F6ZCVE5NK                           dll pa   \n",
       "2   3  B000LQOCH0   ABXLMWJIXXAIN  Natalia Corres \"Natalia Corres\"   \n",
       "3   4  B000UA0QIQ  A395BORC6FGVXV                             Karl   \n",
       "4   5  B006K2ZZ7K  A1UQRSCLF8GW1T    Michael D. Bigham \"M. Wassir\"   \n",
       "\n",
       "   HelpfulnessNumerator  HelpfulnessDenominator  Score        Time  \\\n",
       "0                     1                       1      5  1303862400   \n",
       "1                     0                       0      1  1346976000   \n",
       "2                     1                       1      4  1219017600   \n",
       "3                     3                       3      2  1307923200   \n",
       "4                     0                       0      5  1350777600   \n",
       "\n",
       "                 Summary                                               Text  \n",
       "0  Good Quality Dog Food  I have bought several of the Vitality canned d...  \n",
       "1      Not as Advertised  Product arrived labeled as Jumbo Salted Peanut...  \n",
       "2  \"Delight\" says it all  This is a confection that has been around a fe...  \n",
       "3         Cough Medicine  If you are looking for the secret ingredient i...  \n",
       "4            Great taffy  Great taffy at a great price.  There was a wid...  "
      ]
     },
     "execution_count": 4,
     "metadata": {},
     "output_type": "execute_result"
    }
   ],
   "source": [
    "# Importing the dataset\n",
    "dataset = pd.read_csv('/content/gdrive/MyDrive/Colab Notebooks/NLP_LAB/Dataset_Ass_1/Reviews.csv',encoding='latin-1')\n",
    "dataset = pd.DataFrame(dataset)\n",
    "dataset.head()"
   ]
  },
  {
   "cell_type": "markdown",
   "metadata": {},
   "source": [
    "# <code style=\"background:white;color:#E2522F\">Selecting Required Columns:"
   ]
  },
  {
   "cell_type": "code",
   "execution_count": 5,
   "metadata": {
    "colab": {
     "base_uri": "https://localhost:8080/"
    },
    "id": "EHGSk1gLMCqK",
    "outputId": "d40e24a6-5ce6-4e90-c249-523876709777"
   },
   "outputs": [
    {
     "data": {
      "text/plain": [
       "Index(['Id', 'ProductId', 'UserId', 'ProfileName', 'HelpfulnessNumerator',\n",
       "       'HelpfulnessDenominator', 'Score', 'Time', 'Summary', 'Text'],\n",
       "      dtype='object')"
      ]
     },
     "execution_count": 5,
     "metadata": {},
     "output_type": "execute_result"
    }
   ],
   "source": [
    "# Reviewing column names and finding important one for NLP\n",
    "dataset.columns"
   ]
  },
  {
   "cell_type": "code",
   "execution_count": 6,
   "metadata": {
    "colab": {
     "base_uri": "https://localhost:8080/",
     "height": 206
    },
    "id": "fDUHI49hNpB2",
    "outputId": "813a5080-eeb8-4ed5-a024-a515c9ecd42a"
   },
   "outputs": [
    {
     "data": {
      "text/html": [
       "\n",
       "  <div id=\"df-059ac154-089c-4361-a5ac-6273ff7d1fb1\" class=\"colab-df-container\">\n",
       "    <div>\n",
       "<style scoped>\n",
       "    .dataframe tbody tr th:only-of-type {\n",
       "        vertical-align: middle;\n",
       "    }\n",
       "\n",
       "    .dataframe tbody tr th {\n",
       "        vertical-align: top;\n",
       "    }\n",
       "\n",
       "    .dataframe thead th {\n",
       "        text-align: right;\n",
       "    }\n",
       "</style>\n",
       "<table border=\"1\" class=\"dataframe\">\n",
       "  <thead>\n",
       "    <tr style=\"text-align: right;\">\n",
       "      <th></th>\n",
       "      <th>Id</th>\n",
       "      <th>Score</th>\n",
       "      <th>Summary</th>\n",
       "      <th>Text</th>\n",
       "    </tr>\n",
       "  </thead>\n",
       "  <tbody>\n",
       "    <tr>\n",
       "      <th>0</th>\n",
       "      <td>1</td>\n",
       "      <td>5</td>\n",
       "      <td>Good Quality Dog Food</td>\n",
       "      <td>I have bought several of the Vitality canned d...</td>\n",
       "    </tr>\n",
       "    <tr>\n",
       "      <th>1</th>\n",
       "      <td>2</td>\n",
       "      <td>1</td>\n",
       "      <td>Not as Advertised</td>\n",
       "      <td>Product arrived labeled as Jumbo Salted Peanut...</td>\n",
       "    </tr>\n",
       "    <tr>\n",
       "      <th>2</th>\n",
       "      <td>3</td>\n",
       "      <td>4</td>\n",
       "      <td>\"Delight\" says it all</td>\n",
       "      <td>This is a confection that has been around a fe...</td>\n",
       "    </tr>\n",
       "    <tr>\n",
       "      <th>3</th>\n",
       "      <td>4</td>\n",
       "      <td>2</td>\n",
       "      <td>Cough Medicine</td>\n",
       "      <td>If you are looking for the secret ingredient i...</td>\n",
       "    </tr>\n",
       "    <tr>\n",
       "      <th>4</th>\n",
       "      <td>5</td>\n",
       "      <td>5</td>\n",
       "      <td>Great taffy</td>\n",
       "      <td>Great taffy at a great price.  There was a wid...</td>\n",
       "    </tr>\n",
       "  </tbody>\n",
       "</table>\n",
       "</div>\n",
       "    <div class=\"colab-df-buttons\">\n",
       "\n",
       "  <div class=\"colab-df-container\">\n",
       "    <button class=\"colab-df-convert\" onclick=\"convertToInteractive('df-059ac154-089c-4361-a5ac-6273ff7d1fb1')\"\n",
       "            title=\"Convert this dataframe to an interactive table.\"\n",
       "            style=\"display:none;\">\n",
       "\n",
       "  <svg xmlns=\"http://www.w3.org/2000/svg\" height=\"24px\" viewBox=\"0 -960 960 960\">\n",
       "    <path d=\"M120-120v-720h720v720H120Zm60-500h600v-160H180v160Zm220 220h160v-160H400v160Zm0 220h160v-160H400v160ZM180-400h160v-160H180v160Zm440 0h160v-160H620v160ZM180-180h160v-160H180v160Zm440 0h160v-160H620v160Z\"/>\n",
       "  </svg>\n",
       "    </button>\n",
       "\n",
       "  <style>\n",
       "    .colab-df-container {\n",
       "      display:flex;\n",
       "      gap: 12px;\n",
       "    }\n",
       "\n",
       "    .colab-df-convert {\n",
       "      background-color: #E8F0FE;\n",
       "      border: none;\n",
       "      border-radius: 50%;\n",
       "      cursor: pointer;\n",
       "      display: none;\n",
       "      fill: #1967D2;\n",
       "      height: 32px;\n",
       "      padding: 0 0 0 0;\n",
       "      width: 32px;\n",
       "    }\n",
       "\n",
       "    .colab-df-convert:hover {\n",
       "      background-color: #E2EBFA;\n",
       "      box-shadow: 0px 1px 2px rgba(60, 64, 67, 0.3), 0px 1px 3px 1px rgba(60, 64, 67, 0.15);\n",
       "      fill: #174EA6;\n",
       "    }\n",
       "\n",
       "    .colab-df-buttons div {\n",
       "      margin-bottom: 4px;\n",
       "    }\n",
       "\n",
       "    [theme=dark] .colab-df-convert {\n",
       "      background-color: #3B4455;\n",
       "      fill: #D2E3FC;\n",
       "    }\n",
       "\n",
       "    [theme=dark] .colab-df-convert:hover {\n",
       "      background-color: #434B5C;\n",
       "      box-shadow: 0px 1px 3px 1px rgba(0, 0, 0, 0.15);\n",
       "      filter: drop-shadow(0px 1px 2px rgba(0, 0, 0, 0.3));\n",
       "      fill: #FFFFFF;\n",
       "    }\n",
       "  </style>\n",
       "\n",
       "    <script>\n",
       "      const buttonEl =\n",
       "        document.querySelector('#df-059ac154-089c-4361-a5ac-6273ff7d1fb1 button.colab-df-convert');\n",
       "      buttonEl.style.display =\n",
       "        google.colab.kernel.accessAllowed ? 'block' : 'none';\n",
       "\n",
       "      async function convertToInteractive(key) {\n",
       "        const element = document.querySelector('#df-059ac154-089c-4361-a5ac-6273ff7d1fb1');\n",
       "        const dataTable =\n",
       "          await google.colab.kernel.invokeFunction('convertToInteractive',\n",
       "                                                    [key], {});\n",
       "        if (!dataTable) return;\n",
       "\n",
       "        const docLinkHtml = 'Like what you see? Visit the ' +\n",
       "          '<a target=\"_blank\" href=https://colab.research.google.com/notebooks/data_table.ipynb>data table notebook</a>'\n",
       "          + ' to learn more about interactive tables.';\n",
       "        element.innerHTML = '';\n",
       "        dataTable['output_type'] = 'display_data';\n",
       "        await google.colab.output.renderOutput(dataTable, element);\n",
       "        const docLink = document.createElement('div');\n",
       "        docLink.innerHTML = docLinkHtml;\n",
       "        element.appendChild(docLink);\n",
       "      }\n",
       "    </script>\n",
       "  </div>\n",
       "\n",
       "\n",
       "<div id=\"df-82cb99f9-51bf-4826-a68e-f02b8f176aef\">\n",
       "  <button class=\"colab-df-quickchart\" onclick=\"quickchart('df-82cb99f9-51bf-4826-a68e-f02b8f176aef')\"\n",
       "            title=\"Suggest charts.\"\n",
       "            style=\"display:none;\">\n",
       "\n",
       "<svg xmlns=\"http://www.w3.org/2000/svg\" height=\"24px\"viewBox=\"0 0 24 24\"\n",
       "     width=\"24px\">\n",
       "    <g>\n",
       "        <path d=\"M19 3H5c-1.1 0-2 .9-2 2v14c0 1.1.9 2 2 2h14c1.1 0 2-.9 2-2V5c0-1.1-.9-2-2-2zM9 17H7v-7h2v7zm4 0h-2V7h2v10zm4 0h-2v-4h2v4z\"/>\n",
       "    </g>\n",
       "</svg>\n",
       "  </button>\n",
       "\n",
       "<style>\n",
       "  .colab-df-quickchart {\n",
       "    background-color: #E8F0FE;\n",
       "    border: none;\n",
       "    border-radius: 50%;\n",
       "    cursor: pointer;\n",
       "    display: none;\n",
       "    fill: #1967D2;\n",
       "    height: 32px;\n",
       "    padding: 0 0 0 0;\n",
       "    width: 32px;\n",
       "  }\n",
       "\n",
       "  .colab-df-quickchart:hover {\n",
       "    background-color: #E2EBFA;\n",
       "    box-shadow: 0px 1px 2px rgba(60, 64, 67, 0.3), 0px 1px 3px 1px rgba(60, 64, 67, 0.15);\n",
       "    fill: #174EA6;\n",
       "  }\n",
       "\n",
       "  [theme=dark] .colab-df-quickchart {\n",
       "    background-color: #3B4455;\n",
       "    fill: #D2E3FC;\n",
       "  }\n",
       "\n",
       "  [theme=dark] .colab-df-quickchart:hover {\n",
       "    background-color: #434B5C;\n",
       "    box-shadow: 0px 1px 3px 1px rgba(0, 0, 0, 0.15);\n",
       "    filter: drop-shadow(0px 1px 2px rgba(0, 0, 0, 0.3));\n",
       "    fill: #FFFFFF;\n",
       "  }\n",
       "</style>\n",
       "\n",
       "  <script>\n",
       "    async function quickchart(key) {\n",
       "      const charts = await google.colab.kernel.invokeFunction(\n",
       "          'suggestCharts', [key], {});\n",
       "    }\n",
       "    (() => {\n",
       "      let quickchartButtonEl =\n",
       "        document.querySelector('#df-82cb99f9-51bf-4826-a68e-f02b8f176aef button');\n",
       "      quickchartButtonEl.style.display =\n",
       "        google.colab.kernel.accessAllowed ? 'block' : 'none';\n",
       "    })();\n",
       "  </script>\n",
       "</div>\n",
       "    </div>\n",
       "  </div>\n"
      ],
      "text/plain": [
       "   Id  Score                Summary  \\\n",
       "0   1      5  Good Quality Dog Food   \n",
       "1   2      1      Not as Advertised   \n",
       "2   3      4  \"Delight\" says it all   \n",
       "3   4      2         Cough Medicine   \n",
       "4   5      5            Great taffy   \n",
       "\n",
       "                                                Text  \n",
       "0  I have bought several of the Vitality canned d...  \n",
       "1  Product arrived labeled as Jumbo Salted Peanut...  \n",
       "2  This is a confection that has been around a fe...  \n",
       "3  If you are looking for the secret ingredient i...  \n",
       "4  Great taffy at a great price.  There was a wid...  "
      ]
     },
     "execution_count": 6,
     "metadata": {},
     "output_type": "execute_result"
    }
   ],
   "source": [
    "#Taking only useful column for consideration\n",
    "columns=['Id','Score','Summary','Text']\n",
    "dataset = pd.DataFrame(dataset[columns])\n",
    "dataset.head()"
   ]
  },
  {
   "cell_type": "markdown",
   "metadata": {},
   "source": [
    "# <code style=\"background:white;color:#E2522F\">Importing NLTK Library for Preprocessing:"
   ]
  },
  {
   "cell_type": "code",
   "execution_count": 7,
   "metadata": {
    "id": "13C6sVsPYpAV"
   },
   "outputs": [],
   "source": [
    "import re\n",
    "import nltk\n",
    "from nltk.corpus import stopwords\n",
    "from nltk.tokenize import word_tokenize\n",
    "from nltk.stem import WordNetLemmatizer"
   ]
  },
  {
   "cell_type": "code",
   "execution_count": 8,
   "metadata": {
    "colab": {
     "base_uri": "https://localhost:8080/"
    },
    "id": "FCba0SgXZCan",
    "outputId": "2cbd2ef3-7b88-48bc-ec3a-7e25e331796b"
   },
   "outputs": [
    {
     "name": "stderr",
     "output_type": "stream",
     "text": [
      "[nltk_data] Downloading package punkt to /root/nltk_data...\n",
      "[nltk_data]   Package punkt is already up-to-date!\n",
      "[nltk_data] Downloading package stopwords to /root/nltk_data...\n",
      "[nltk_data]   Package stopwords is already up-to-date!\n",
      "[nltk_data] Downloading package wordnet to /root/nltk_data...\n",
      "[nltk_data]   Package wordnet is already up-to-date!\n"
     ]
    },
    {
     "data": {
      "text/plain": [
       "True"
      ]
     },
     "execution_count": 8,
     "metadata": {},
     "output_type": "execute_result"
    }
   ],
   "source": [
    "nltk.download('punkt')\n",
    "nltk.download('stopwords')\n",
    "nltk.download('wordnet')"
   ]
  },
  {
   "cell_type": "markdown",
   "metadata": {},
   "source": [
    "# <code style=\"background:white;color:#E2522F\">As Dataset is too big randomly selecting part of dataset:"
   ]
  },
  {
   "cell_type": "code",
   "execution_count": 9,
   "metadata": {
    "id": "K38onk_4a1gz"
   },
   "outputs": [],
   "source": [
    "import random\n",
    "\n",
    "# Specify the number of rows you want to randomly select\n",
    "num_rows_to_select = 30000\n",
    "\n",
    "# Get the total number of rows in the DataFrame\n",
    "total_rows = len(dataset)\n",
    "\n",
    "# Generate a list of random indices within the range of total rows\n",
    "random_indices = random.sample(range(total_rows), num_rows_to_select)\n",
    "\n",
    "# Select the rows based on the random indices\n",
    "random_rows = dataset.iloc[random_indices]\n",
    "\n",
    "# Create a new DataFrame from the randomly selected rows\n",
    "dataset = pd.DataFrame(random_rows)"
   ]
  },
  {
   "cell_type": "markdown",
   "metadata": {},
   "source": [
    "# <code style=\"background:white;color:#E2522F\">Tokenization & Lemmatization Operations:\n",
    "# <code style=\"background:white;color:#E2522F\">Data Cleansing: Remove stopwords, remove symbols, remove urls:"
   ]
  },
  {
   "cell_type": "code",
   "execution_count": 10,
   "metadata": {
    "id": "znYpy8rVYl8u"
   },
   "outputs": [],
   "source": [
    "lemmatizer = WordNetLemmatizer()\n",
    "stop_words = set(stopwords.words('english'))\n",
    "\n",
    "def preprocess_text(text):\n",
    "    text = text.lower()\n",
    "    text = re.sub(r'http\\S+', '', text)\n",
    "    text = re.sub(r'[^a-zA-Z]', ' ', text)\n",
    "    words = word_tokenize(text)\n",
    "    words = [lemmatizer.lemmatize(word) for word in words if word not in stop_words]\n",
    "    return ' '.join(words)\n",
    "\n",
    "dataset['CleanedText'] = dataset['Text'].apply(preprocess_text)"
   ]
  },
  {
   "cell_type": "code",
   "execution_count": 11,
   "metadata": {
    "colab": {
     "base_uri": "https://localhost:8080/"
    },
    "id": "lEt0O0Q2YtMV",
    "outputId": "d9516881-8b62-413a-ff01-2a7e73eed05e"
   },
   "outputs": [
    {
     "data": {
      "text/plain": [
       "(30000, 5)"
      ]
     },
     "execution_count": 11,
     "metadata": {},
     "output_type": "execute_result"
    }
   ],
   "source": [
    "dataset.shape"
   ]
  },
  {
   "cell_type": "markdown",
   "metadata": {},
   "source": [
    "# <code style=\"background:white;color:#E2522F\"> Using countvectorizer to convert text to vectors:"
   ]
  },
  {
   "cell_type": "code",
   "execution_count": 12,
   "metadata": {
    "colab": {
     "base_uri": "https://localhost:8080/"
    },
    "id": "FxZNgUrJ4Tzb",
    "outputId": "eb1fd81e-0c1b-4c70-fa87-e50ed97f33a3"
   },
   "outputs": [
    {
     "name": "stdout",
     "output_type": "stream",
     "text": [
      "Shape of CountVectorizer output: (30000, 28220)\n",
      "Sample of CountVectorizer output:\n",
      "   (0, 10590)\t1\n",
      "  (0, 19262)\t1\n",
      "  (0, 14764)\t1\n",
      "  (0, 24951)\t1\n",
      "  (0, 15780)\t2\n",
      "  (0, 25962)\t1\n",
      "  (0, 19344)\t5\n",
      "  (0, 4794)\t5\n",
      "  (0, 9563)\t4\n",
      "  (0, 6840)\t1\n",
      "  (0, 9750)\t1\n",
      "  (0, 26239)\t1\n",
      "  (0, 7142)\t1\n",
      "  (0, 18451)\t2\n",
      "  (0, 840)\t3\n",
      "  (0, 27277)\t3\n",
      "  (0, 27758)\t2\n",
      "  (0, 22069)\t1\n",
      "  (0, 20396)\t1\n",
      "  (0, 17297)\t1\n",
      "  (0, 10337)\t1\n",
      "  (0, 7584)\t1\n",
      "  (0, 15399)\t1\n",
      "  (0, 27794)\t1\n",
      "  (0, 6332)\t1\n",
      "  :\t:\n",
      "  (1, 17654)\t1\n",
      "  (1, 9304)\t1\n",
      "  (1, 11010)\t1\n",
      "  (1, 4345)\t1\n",
      "  (1, 24241)\t1\n",
      "  (1, 3848)\t1\n",
      "  (1, 16385)\t2\n",
      "  (1, 19021)\t1\n",
      "  (1, 2499)\t1\n",
      "  (1, 25535)\t1\n",
      "  (1, 4793)\t1\n",
      "  (1, 11819)\t1\n",
      "  (1, 23788)\t1\n",
      "  (1, 7779)\t1\n",
      "  (1, 23764)\t1\n",
      "  (1, 24852)\t1\n",
      "  (1, 7937)\t1\n",
      "  (1, 14815)\t1\n",
      "  (1, 22017)\t1\n",
      "  (1, 18747)\t1\n",
      "  (1, 24726)\t1\n",
      "  (1, 3847)\t1\n",
      "  (1, 15169)\t1\n",
      "  (1, 23768)\t1\n",
      "  (1, 17174)\t1\n"
     ]
    }
   ],
   "source": [
    "# Using countvectorizer to convert text to vectors\n",
    "from sklearn.feature_extraction.text import CountVectorizer\n",
    "\n",
    "# Initialize CountVectorizer\n",
    "count_vectorizer = CountVectorizer()\n",
    "\n",
    "# Fit and transform the text column\n",
    "count_vectors = count_vectorizer.fit_transform(dataset['CleanedText'] )\n",
    "\n",
    "\n",
    "# Print the shape and a small sample of the output\n",
    "print(\"Shape of CountVectorizer output:\", count_vectors.shape)\n",
    "print(\"Sample of CountVectorizer output:\\n\", count_vectors[0:2])"
   ]
  },
  {
   "cell_type": "markdown",
   "metadata": {},
   "source": [
    "# <code style=\"background:white;color:#E2522F\"> Using TF-IDF to convert text to vectors:"
   ]
  },
  {
   "cell_type": "code",
   "execution_count": 14,
   "metadata": {
    "colab": {
     "base_uri": "https://localhost:8080/"
    },
    "id": "oqlRUGK_4T47",
    "outputId": "ee57b83b-9e4e-4d44-fc62-015a18ffaa42"
   },
   "outputs": [
    {
     "name": "stdout",
     "output_type": "stream",
     "text": [
      "Shape of TFIDFVectorizer output: (30000, 28220)\n",
      "Sample of TFIDFVectorizer output:\n",
      "   (0, 22016)\t0.07054432640882344\n",
      "  (0, 3325)\t0.03850503921696987\n",
      "  (0, 24264)\t0.07833526698229168\n",
      "  (0, 27144)\t0.04632259723550692\n",
      "  (0, 6332)\t0.11356567782712278\n",
      "  (0, 27794)\t0.11106459131821053\n",
      "  (0, 15399)\t0.10492654365759971\n",
      "  (0, 7584)\t0.07367035011215385\n",
      "  (0, 10337)\t0.034595596461899775\n",
      "  (0, 17297)\t0.04573936085009291\n",
      "  (0, 20396)\t0.08873275345129461\n",
      "  (0, 22069)\t0.08342990289335664\n",
      "  (0, 27758)\t0.14031096253987183\n",
      "  (0, 27277)\t0.21479078465166754\n",
      "  (0, 840)\t0.11437460901561385\n",
      "  (0, 18451)\t0.14612986620687807\n",
      "  (0, 7142)\t0.10083218853447448\n",
      "  (0, 26239)\t0.06549075688095363\n",
      "  (0, 9750)\t0.1323119510523854\n",
      "  (0, 6840)\t0.04850855082399404\n",
      "  (0, 9563)\t0.5292478042095417\n",
      "  (0, 4794)\t0.6615597552619271\n",
      "  (0, 19344)\t0.15607655574292228\n",
      "  (0, 25962)\t0.04502262812028121\n",
      "  (0, 15780)\t0.1500800995078035\n",
      "  :\t:\n",
      "  (1, 22207)\t0.15667362240942606\n",
      "  (1, 25104)\t0.05589504703783598\n",
      "  (1, 8172)\t0.07978770385851389\n",
      "  (1, 2911)\t0.0555975610566706\n",
      "  (1, 27199)\t0.11789654134447392\n",
      "  (1, 16441)\t0.1204944517631718\n",
      "  (1, 811)\t0.060504258447326056\n",
      "  (1, 18720)\t0.07465789096454559\n",
      "  (1, 20345)\t0.15315031343266716\n",
      "  (1, 10131)\t0.12242550576623887\n",
      "  (1, 229)\t0.16761801972271947\n",
      "  (1, 16211)\t0.12154808961749608\n",
      "  (1, 23559)\t0.119927239270841\n",
      "  (1, 14242)\t0.033828738719409356\n",
      "  (1, 9077)\t0.056653741554958933\n",
      "  (1, 4188)\t0.3893877387100303\n",
      "  (1, 10249)\t0.3458667579603925\n",
      "  (1, 25737)\t0.09925404342106496\n",
      "  (1, 15002)\t0.13292510105359262\n",
      "  (1, 4211)\t0.13207141057081573\n",
      "  (1, 25606)\t0.09202626484493005\n",
      "  (1, 5965)\t0.10364265411428049\n",
      "  (1, 27292)\t0.06911844390307877\n",
      "  (1, 15610)\t0.10823082232013909\n",
      "  (1, 21352)\t0.12975662561018317\n"
     ]
    }
   ],
   "source": [
    "# Using TF-IDF to convert text to vectors\n",
    "from sklearn.feature_extraction.text import TfidfVectorizer\n",
    "\n",
    "# Initialize TfidfVectorizer\n",
    "tfidf_vectorizer = TfidfVectorizer()\n",
    "\n",
    "# Fit and transform the text column\n",
    "tfidf_vectors = tfidf_vectorizer.fit_transform(dataset['CleanedText'] )\n",
    "\n",
    "# Print the shape and a small sample of the output\n",
    "print(\"Shape of TFIDFVectorizer output:\", tfidf_vectors.shape)\n",
    "print(\"Sample of TFIDFVectorizer output:\\n\", tfidf_vectors[0:2])"
   ]
  },
  {
   "cell_type": "markdown",
   "metadata": {},
   "source": [
    "# <code style=\"background:white;color:#E2522F\"> Using word2vec to convert text to vectors:"
   ]
  },
  {
   "cell_type": "code",
   "execution_count": 15,
   "metadata": {
    "colab": {
     "base_uri": "https://localhost:8080/"
    },
    "id": "v_bVl2-gcI4O",
    "outputId": "7b8f446e-8a1b-419b-b8d8-375d64b032e2"
   },
   "outputs": [
    {
     "name": "stderr",
     "output_type": "stream",
     "text": [
      "WARNING:gensim.models.word2vec:Effective 'alpha' higher than previous training cycles\n"
     ]
    },
    {
     "name": "stdout",
     "output_type": "stream",
     "text": [
      "Sample of Word2Vec output: 127239    [[-0.11511172, -0.6120818, -0.28831002, 1.0117...\n",
      "6577      [[0.7014204, 0.015248791, 0.012417167, 0.05614...\n",
      "340362    [[0.0147908935, 0.07576435, 0.35363078, 0.2393...\n",
      "478524    [[0.04025945, -0.1266721, -0.5802059, 0.064881...\n",
      "191099    [[1.0440321, 0.9758438, -0.015830606, -1.29096...\n",
      "Name: CleanedText, dtype: object\n"
     ]
    }
   ],
   "source": [
    "# Using word2vec to convert text to vectors\n",
    "from gensim.models import Word2Vec\n",
    "\n",
    "# Tokenize the text column\n",
    "tokenized_text = dataset['CleanedText'].apply(lambda x: x.split())\n",
    "\n",
    "# Train a Word2Vec model\n",
    "word2vec_model = Word2Vec(tokenized_text, window=5, min_count=1, workers=4)\n",
    "word2vec_model.train(tokenized_text, total_examples=len(tokenized_text), epochs=10)\n",
    "\n",
    "# Create Word2Vec vectors for the text column\n",
    "word2vec_vectors = tokenized_text.apply(lambda x: [word2vec_model.wv[word] for word in x])\n",
    "\n",
    "# Print the shape and a small sample of the output\n",
    "print(\"Sample of Word2Vec output:\", word2vec_vectors.head())\n"
   ]
  },
  {
   "cell_type": "markdown",
   "metadata": {},
   "source": [
    "# <code style=\"background:white;color:#E2522F\"> Using GoogleNews word2vec to convert text to vectors:"
   ]
  },
  {
   "cell_type": "code",
   "execution_count": 16,
   "metadata": {
    "colab": {
     "base_uri": "https://localhost:8080/"
    },
    "id": "WWAb073L0vfo",
    "outputId": "3559bd96-1b33-4468-82ca-6f599bbdfd97"
   },
   "outputs": [
    {
     "name": "stdout",
     "output_type": "stream",
     "text": [
      "Sample of GoogleNews Word2Vec output: 127239    [[-0.20800781, -0.028198242, 0.021850586, 0.16...\n",
      "6577      [[0.27148438, 0.20507812, -0.029052734, -0.103...\n",
      "340362    [[-0.11621094, 0.023925781, 0.0067443848, -0.3...\n",
      "478524    [[0.040527344, -0.1015625, 0.08154297, -0.0290...\n",
      "191099    [[0.08203125, -0.06542969, 0.06689453, 0.16894...\n",
      "Name: CleanedText, dtype: object\n"
     ]
    }
   ],
   "source": [
    "# Using GoogleNews word2vec to convert text to vectors\n",
    "from gensim.models import KeyedVectors\n",
    "\n",
    "# Load the GoogleNews Word2Vec model\n",
    "google_w2v_path = '/content/gdrive/MyDrive/Colab Notebooks/NLP_LAB/Dataset_Ass_1/GoogleNews-vectors-negative300.bin'\n",
    "google_w2v_model = KeyedVectors.load_word2vec_format(google_w2v_path, binary=True)\n",
    "\n",
    "# Create GoogleNews Word2Vec vectors for the text column\n",
    "google_w2v_vectors = tokenized_text.apply(lambda x: [google_w2v_model[word] for word in x if word in google_w2v_model])\n",
    "\n",
    "# Print the shape and a small sample of the output\n",
    "print(\"Sample of GoogleNews Word2Vec output:\", google_w2v_vectors.head())"
   ]
  },
  {
   "cell_type": "code",
   "execution_count": 17,
   "metadata": {
    "id": "HFxL-u_UqfMG"
   },
   "outputs": [],
   "source": [
    "#!gunzip \"/content/gdrive/MyDrive/Colab Notebooks/NLP_LAB/Dataset_Ass_1/GoogleNews-vectors-negative300.bin.gz\"\n"
   ]
  },
  {
   "cell_type": "markdown",
   "metadata": {},
   "source": [
    "# <code style=\"background:white;color:#E2522F\"> Unzipping GoogleNews vector model:"
   ]
  },
  {
   "cell_type": "code",
   "execution_count": 18,
   "metadata": {
    "id": "gMtJsnwTcLlB"
   },
   "outputs": [],
   "source": [
    "from gensim.models import KeyedVectors\n",
    "\n",
    "google_w2v_model_path = '/content/gdrive/MyDrive/Colab Notebooks/NLP_LAB/Dataset_Ass_1/GoogleNews-vectors-negative300.bin'\n",
    "google_w2v_model = KeyedVectors.load_word2vec_format(google_w2v_model_path, binary=True)\n"
   ]
  },
  {
   "cell_type": "markdown",
   "metadata": {},
   "source": [
    "# <code style=\"background:white;color:#E2522F\"> Applying different models: "
   ]
  },
  {
   "cell_type": "markdown",
   "metadata": {},
   "source": [
    "# <code style=\"background:white;color:#E2522F\"> Logistic Regression with CountVectorizer:"
   ]
  },
  {
   "cell_type": "code",
   "execution_count": 19,
   "metadata": {
    "colab": {
     "base_uri": "https://localhost:8080/"
    },
    "id": "hA2Eyq3m5KZk",
    "outputId": "60bf12c0-00f7-4eee-cf7b-e9e8bb85fb82"
   },
   "outputs": [
    {
     "name": "stdout",
     "output_type": "stream",
     "text": [
      "Classification Report for Logistic Regression with CountVectorizer:\n",
      "               precision    recall  f1-score   support\n",
      "\n",
      "           1       0.55      0.54      0.54       524\n",
      "           2       0.29      0.24      0.27       313\n",
      "           3       0.39      0.27      0.32       479\n",
      "           4       0.35      0.25      0.29       844\n",
      "           5       0.80      0.89      0.84      3840\n",
      "\n",
      "    accuracy                           0.69      6000\n",
      "   macro avg       0.48      0.44      0.45      6000\n",
      "weighted avg       0.65      0.69      0.67      6000\n",
      "\n"
     ]
    }
   ],
   "source": [
    "# Logistic Regression with CountVectorizer\n",
    "\n",
    "# Importing the libraries\n",
    "from sklearn.model_selection import train_test_split\n",
    "from sklearn.linear_model import LogisticRegression\n",
    "from sklearn.metrics import classification_report\n",
    "\n",
    "# Split the data into training and testing sets\n",
    "X_train, X_test, y_train, y_test = train_test_split(count_vectors, dataset['Score'], test_size=0.2, random_state=42)\n",
    "\n",
    "# Initialize and train the Logistic Regression model\n",
    "lr_model_count = LogisticRegression(max_iter=1000)\n",
    "lr_model_count.fit(X_train, y_train)\n",
    "\n",
    "# Make predictions and print the classification report\n",
    "y_pred_count = lr_model_count.predict(X_test)\n",
    "print(\"Classification Report for Logistic Regression with CountVectorizer:\\n\", classification_report(y_test, y_pred_count))"
   ]
  },
  {
   "cell_type": "markdown",
   "metadata": {},
   "source": [
    "# <code style=\"background:white;color:#E2522F\"> Logistic Regression with TFIDFVectorizer:"
   ]
  },
  {
   "cell_type": "code",
   "execution_count": 20,
   "metadata": {
    "colab": {
     "base_uri": "https://localhost:8080/"
    },
    "id": "V8DFKjST5KdS",
    "outputId": "4d59d2f4-84bb-4634-fa2b-b2ecbf64d53c"
   },
   "outputs": [
    {
     "name": "stdout",
     "output_type": "stream",
     "text": [
      "Classification Report for Logistic Regression with TFIDFVectorizer:\n",
      "               precision    recall  f1-score   support\n",
      "\n",
      "           1       0.60      0.50      0.54       524\n",
      "           2       0.33      0.06      0.10       313\n",
      "           3       0.54      0.14      0.22       479\n",
      "           4       0.42      0.19      0.26       844\n",
      "           5       0.74      0.97      0.84      3840\n",
      "\n",
      "    accuracy                           0.70      6000\n",
      "   macro avg       0.53      0.37      0.39      6000\n",
      "weighted avg       0.65      0.70      0.64      6000\n",
      "\n"
     ]
    }
   ],
   "source": [
    "# Logistic Regression with TFIDFVectorizer\n",
    "# Split the data into training and testing sets\n",
    "X_train, X_test, y_train, y_test = train_test_split(tfidf_vectors, dataset['Score'], test_size=0.2, random_state=42)\n",
    "\n",
    "# Initialize and train the Logistic Regression model\n",
    "lr_model_tfidf = LogisticRegression(max_iter=1000)\n",
    "lr_model_tfidf.fit(X_train, y_train)\n",
    "\n",
    "# Make predictions and print the classification report\n",
    "y_pred_tfidf = lr_model_tfidf.predict(X_test)\n",
    "print(\"Classification Report for Logistic Regression with TFIDFVectorizer:\\n\", classification_report(y_test, y_pred_tfidf))"
   ]
  },
  {
   "cell_type": "markdown",
   "metadata": {},
   "source": [
    "# <code style=\"background:white;color:#E2522F\"> Logistic Regression with Word2Vec:"
   ]
  },
  {
   "cell_type": "code",
   "execution_count": 21,
   "metadata": {
    "id": "ry8mxPH4wJDN"
   },
   "outputs": [],
   "source": [
    "# Logistic Regression with Word2Vec\n",
    "# Importing the libraries\n",
    "import numpy as np\n",
    "\n",
    "# Function to calculate the mean vector for each document\n",
    "def mean_vector(words):\n",
    "    # Filter out words that are not in the Word2Vec model's vocabulary\n",
    "    valid_words = [word for word in words if word in word2vec_model.wv]\n",
    "    if valid_words:\n",
    "        # Calculate the mean vector for valid words\n",
    "        vectors = [word2vec_model.wv[word] for word in valid_words]\n",
    "        return np.mean(vectors, axis=0)\n",
    "    else:\n",
    "        # Return a zero vector if no valid words are found\n",
    "        return np.zeros(word2vec_model.vector_size)"
   ]
  },
  {
   "cell_type": "code",
   "execution_count": 22,
   "metadata": {
    "colab": {
     "base_uri": "https://localhost:8080/"
    },
    "id": "EJZwQmel0Iu9",
    "outputId": "a5503a32-f3d8-488f-9bb5-20c51db47d05"
   },
   "outputs": [
    {
     "name": "stdout",
     "output_type": "stream",
     "text": [
      "Classification Report for Logistic Regression with Word2Vec:\n",
      "               precision    recall  f1-score   support\n",
      "\n",
      "           1       0.50      0.52      0.51       524\n",
      "           2       0.27      0.04      0.08       313\n",
      "           3       0.34      0.09      0.14       479\n",
      "           4       0.38      0.11      0.17       844\n",
      "           5       0.73      0.96      0.83      3840\n",
      "\n",
      "    accuracy                           0.68      6000\n",
      "   macro avg       0.44      0.34      0.34      6000\n",
      "weighted avg       0.60      0.68      0.61      6000\n",
      "\n"
     ]
    }
   ],
   "source": [
    "# Apply the function to the tokenized text\n",
    "word2vec_mean_vectors = np.array(tokenized_text.apply(mean_vector).tolist())\n",
    "\n",
    "# Split the data into training and testing sets\n",
    "X_train, X_test, y_train, y_test = train_test_split(word2vec_mean_vectors, dataset['Score'], test_size=0.2, random_state=42)\n",
    "\n",
    "# Initialize and train the Logistic Regression model\n",
    "lr_model_word2vec = LogisticRegression(max_iter=1000)\n",
    "lr_model_word2vec.fit(X_train, y_train)\n",
    "\n",
    "# Make predictions and print the classification report\n",
    "y_pred_word2vec = lr_model_word2vec.predict(X_test)\n",
    "print(\"Classification Report for Logistic Regression with Word2Vec:\\n\", classification_report(y_test, y_pred_word2vec))"
   ]
  },
  {
   "cell_type": "markdown",
   "metadata": {},
   "source": [
    "# <code style=\"background:white;color:#E2522F\"> Logistic Regression with Google_w2v_model:"
   ]
  },
  {
   "cell_type": "code",
   "execution_count": 23,
   "metadata": {
    "id": "FlWCjGcH13Yf"
   },
   "outputs": [],
   "source": [
    "# Function to calculate the mean vector for each document\n",
    "def mean_vector_google_w2v(words):\n",
    "    # Filter out words that are not in the GoogleNews Word2Vec model's vocabulary\n",
    "    valid_words = [word for word in words if word in google_w2v_model]\n",
    "    if valid_words:\n",
    "        # Calculate the mean vector for valid words\n",
    "        vectors = [google_w2v_model[word] for word in valid_words]\n",
    "        return np.mean(vectors, axis=0)\n",
    "    else:\n",
    "        # Return a zero vector if no valid words are found\n",
    "        return np.zeros(google_w2v_model.vector_size)"
   ]
  },
  {
   "cell_type": "code",
   "execution_count": 25,
   "metadata": {
    "colab": {
     "base_uri": "https://localhost:8080/"
    },
    "id": "g5VPYHjb13rP",
    "outputId": "0edcc8e8-688d-4485-f2ef-11a23aeb5290"
   },
   "outputs": [
    {
     "name": "stdout",
     "output_type": "stream",
     "text": [
      "Classification Report for Logistic Regression with GoogleNews Word2Vec:\n",
      "               precision    recall  f1-score   support\n",
      "\n",
      "           1       0.56      0.51      0.53       524\n",
      "           2       0.40      0.04      0.08       313\n",
      "           3       0.29      0.04      0.07       479\n",
      "           4       0.38      0.10      0.16       844\n",
      "           5       0.71      0.97      0.82      3840\n",
      "\n",
      "    accuracy                           0.68      6000\n",
      "   macro avg       0.47      0.33      0.33      6000\n",
      "weighted avg       0.60      0.68      0.60      6000\n",
      "\n"
     ]
    }
   ],
   "source": [
    "# Apply the function to the tokenized text\n",
    "google_w2v_mean_vectors = np.array(tokenized_text.apply(mean_vector_google_w2v).tolist())\n",
    "\n",
    "# Split the data into training and testing sets\n",
    "X_train, X_test, y_train, y_test = train_test_split(google_w2v_mean_vectors, dataset['Score'], test_size=0.2, random_state=42)\n",
    "\n",
    "# Initialize and train the Logistic Regression model\n",
    "lr_model_google_w2v = LogisticRegression(max_iter=1000)\n",
    "lr_model_google_w2v.fit(X_train, y_train)\n",
    "\n",
    "# Make predictions and print the classification report\n",
    "y_pred_google_w2v = lr_model_google_w2v.predict(X_test)\n",
    "print(\"Classification Report for Logistic Regression with GoogleNews Word2Vec:\\n\", classification_report(y_test, y_pred_google_w2v))"
   ]
  },
  {
   "cell_type": "markdown",
   "metadata": {},
   "source": [
    "# <code style=\"background:white;color:#E2522F\"> Logistic Regression classification report analysis:\n",
    "- <b>The models show relatively consistent performance across different vectorization techniques.<br>\n",
    "- <b>They perform well in terms of weighted average F1-scores, indicating competence in classifying the majority class.<br>\n",
    "- <b>However, they struggle with minority class classification, as seen from low macro average F1-scores.<br>\n",
    "- <b>Among the vectorization techniques, TFIDFVectorizer consistently yields the highest macro and weighted average F1-scores.<br>\n",
    "- <b>The models face challenges in correctly classifying class 2, as evident from consistently low precision, recall, and F1-scores for this class."
   ]
  },
  {
   "cell_type": "markdown",
   "metadata": {
    "id": "1n_2mrFw6oxi"
   },
   "source": [
    "# <code style=\"background:white;color:#E2522F\"> SVC with CountVectorizer:"
   ]
  },
  {
   "cell_type": "code",
   "execution_count": 26,
   "metadata": {
    "colab": {
     "base_uri": "https://localhost:8080/"
    },
    "id": "vZCYGuL73Hy2",
    "outputId": "f1793adf-04ad-458d-fd3a-7ca46319a396"
   },
   "outputs": [
    {
     "name": "stdout",
     "output_type": "stream",
     "text": [
      "Classification Report for SGD Classifier with CountVectorizer:\n",
      "               precision    recall  f1-score   support\n",
      "\n",
      "           1       0.56      0.54      0.55       524\n",
      "           2       0.27      0.20      0.23       313\n",
      "           3       0.37      0.21      0.27       479\n",
      "           4       0.34      0.26      0.30       844\n",
      "           5       0.79      0.89      0.84      3840\n",
      "\n",
      "    accuracy                           0.68      6000\n",
      "   macro avg       0.47      0.42      0.44      6000\n",
      "weighted avg       0.65      0.68      0.66      6000\n",
      "\n"
     ]
    }
   ],
   "source": [
    "# SGD Classifier & GridSearchCV with CountVectorizer:\n",
    "# Importing the SGD Classifier\n",
    "from sklearn.linear_model import SGDClassifier\n",
    "\n",
    "# Split the data into training and testing sets and training the model\n",
    "X_train, X_test, y_train, y_test = train_test_split(count_vectors, dataset['Score'], test_size=0.2, random_state=42)\n",
    "sgd_model_count = SGDClassifier(loss='hinge', max_iter=10000)\n",
    "sgd_model_count.fit(X_train, y_train)\n",
    "\n",
    "# Make predictions and printing the classification report\n",
    "y_pred_count_sgd = sgd_model_count.predict(X_test)\n",
    "print(\"Classification Report for SGD Classifier with CountVectorizer:\\n\", classification_report(y_test, y_pred_count_sgd))"
   ]
  },
  {
   "cell_type": "markdown",
   "metadata": {},
   "source": [
    "# <code style=\"background:white;color:#E2522F\"> SVC with TFIDFVectorizer:"
   ]
  },
  {
   "cell_type": "code",
   "execution_count": 27,
   "metadata": {
    "colab": {
     "base_uri": "https://localhost:8080/"
    },
    "id": "NIKb-Ni166P7",
    "outputId": "453463a3-fc2b-4379-929b-8ebc056593d9"
   },
   "outputs": [
    {
     "name": "stdout",
     "output_type": "stream",
     "text": [
      "Classification Report for LinearSVC with TFIDFVectorizer:\n",
      "               precision    recall  f1-score   support\n",
      "\n",
      "           1       0.58      0.57      0.57       524\n",
      "           2       0.33      0.14      0.19       313\n",
      "           3       0.43      0.22      0.29       479\n",
      "           4       0.37      0.23      0.28       844\n",
      "           5       0.78      0.93      0.85      3840\n",
      "\n",
      "    accuracy                           0.70      6000\n",
      "   macro avg       0.50      0.42      0.44      6000\n",
      "weighted avg       0.65      0.70      0.67      6000\n",
      "\n"
     ]
    }
   ],
   "source": [
    "#SVM Classifier with TFIDFVectorizer:\n",
    "# Importing the libraries\n",
    "from sklearn.svm import LinearSVC\n",
    "# Split the TFIDFVectorizer data into training and testing sets\n",
    "X_train, X_test, y_train, y_test = train_test_split(tfidf_vectors, dataset['Score'], test_size=0.2, random_state=42)\n",
    "\n",
    "# Initialize LinearSVC model\n",
    "linear_svc_model_tfidf = LinearSVC(max_iter=10000)\n",
    "\n",
    "# Train the model\n",
    "linear_svc_model_tfidf.fit(X_train, y_train)\n",
    "\n",
    "# Make predictions on the test set\n",
    "y_pred_tfidf_svc = linear_svc_model_tfidf.predict(X_test)\n",
    "\n",
    "# Print the classification report\n",
    "print(\"Classification Report for LinearSVC with TFIDFVectorizer:\\n\", classification_report(y_test, y_pred_tfidf_svc))\n"
   ]
  },
  {
   "cell_type": "markdown",
   "metadata": {},
   "source": [
    "# <code style=\"background:white;color:#E2522F\"> SVC with Word2vec:"
   ]
  },
  {
   "cell_type": "code",
   "execution_count": 29,
   "metadata": {
    "colab": {
     "base_uri": "https://localhost:8080/"
    },
    "id": "TJv0Tv0T7Vf-",
    "outputId": "7c2318b7-3e0f-4477-d277-93210a0a1b59"
   },
   "outputs": [
    {
     "name": "stdout",
     "output_type": "stream",
     "text": [
      "Fitting 5 folds for each of 4 candidates, totalling 20 fits\n"
     ]
    },
    {
     "name": "stderr",
     "output_type": "stream",
     "text": [
      "/usr/local/lib/python3.10/dist-packages/sklearn/model_selection/_validation.py:378: FitFailedWarning: \n",
      "15 fits failed out of a total of 20.\n",
      "The score on these train-test partitions for these parameters will be set to nan.\n",
      "If these failures are not expected, you can try to debug them by setting error_score='raise'.\n",
      "\n",
      "Below are more details about the failures:\n",
      "--------------------------------------------------------------------------------\n",
      "15 fits failed with the following error:\n",
      "Traceback (most recent call last):\n",
      "  File \"/usr/local/lib/python3.10/dist-packages/sklearn/model_selection/_validation.py\", line 686, in _fit_and_score\n",
      "    estimator.fit(X_train, y_train, **fit_params)\n",
      "  File \"/usr/local/lib/python3.10/dist-packages/sklearn/linear_model/_stochastic_gradient.py\", line 892, in fit\n",
      "    self._more_validate_params()\n",
      "  File \"/usr/local/lib/python3.10/dist-packages/sklearn/linear_model/_stochastic_gradient.py\", line 149, in _more_validate_params\n",
      "    raise ValueError(\"eta0 must be > 0\")\n",
      "ValueError: eta0 must be > 0\n",
      "\n",
      "  warnings.warn(some_fits_failed_message, FitFailedWarning)\n",
      "/usr/local/lib/python3.10/dist-packages/sklearn/model_selection/_search.py:952: UserWarning: One or more of the test scores are non-finite: [0.67433333        nan        nan        nan]\n",
      "  warnings.warn(\n"
     ]
    },
    {
     "name": "stdout",
     "output_type": "stream",
     "text": [
      "Best parameters found: {'penalty': 'l2', 'max_iter': 4000, 'loss': 'hinge', 'learning_rate': 'optimal', 'alpha': 0.0001}\n",
      "Classification Report for SGD Classifier with Word2Vec (RandomizedSearchCV):\n",
      "               precision    recall  f1-score   support\n",
      "\n",
      "           1       0.42      0.55      0.47       524\n",
      "           2       0.06      0.00      0.01       313\n",
      "           3       0.19      0.03      0.04       479\n",
      "           4       0.32      0.13      0.18       844\n",
      "           5       0.74      0.94      0.83      3840\n",
      "\n",
      "    accuracy                           0.67      6000\n",
      "   macro avg       0.35      0.33      0.31      6000\n",
      "weighted avg       0.57      0.67      0.60      6000\n",
      "\n"
     ]
    }
   ],
   "source": [
    "# Trying SGD Model for word2vec\n",
    "\n",
    "# Importing the SGD Classifier\n",
    "from sklearn.linear_model import SGDClassifier\n",
    "from sklearn.model_selection import RandomizedSearchCV # Import RandomizedSearchCV\n",
    "# Split the Word2Vec mean vectors into training and testing sets\n",
    "X_train, X_test, y_train, y_test = train_test_split(word2vec_mean_vectors, dataset['Score'], test_size=0.2, random_state=42)\n",
    "\n",
    "from sklearn.metrics import classification_report\n",
    "\n",
    "# Hyperparameters to search (reduced grid)\n",
    "param_grid = {\n",
    "    'alpha': [1e-4, 1e-1], # Reduced number of options\n",
    "    'max_iter': [900, 4000], # Reduced number of options\n",
    "    'penalty': ['l2'], # Keeping only 'l2'\n",
    "    'loss': ['hinge'],  # Keeping only 'hinge'\n",
    "    'learning_rate': ['constant', 'optimal', 'invscaling'],  # Adding learning_rate parameter\n",
    "}\n",
    "\n",
    "# Create a RandomizedSearchCV object with the SGD Classifier (you can switch to GridSearchCV if desired)\n",
    "# Here, n_iter is set to 4, so only 4 random combinations will be tried\n",
    "random_search_word2vec_sgd = RandomizedSearchCV(SGDClassifier(), param_grid, n_iter=4, cv=5, verbose=1, n_jobs=-1)\n",
    "\n",
    "# Fit the model to the training data\n",
    "random_search_word2vec_sgd.fit(X_train, y_train)\n",
    "\n",
    "# Print the best parameters and score\n",
    "print(\"Best parameters found:\", random_search_word2vec_sgd.best_params_)\n",
    "\n",
    "# Make predictions on the test set using the best model\n",
    "y_pred_word2vec_sgd_random = random_search_word2vec_sgd.predict(X_test)\n",
    "\n",
    "# Print the classification report for the model with the best hyperparameters\n",
    "print(\"Classification Report for SGD Classifier with Word2Vec (RandomizedSearchCV):\\n\", classification_report(y_test, y_pred_word2vec_sgd_random))\n"
   ]
  },
  {
   "cell_type": "markdown",
   "metadata": {},
   "source": [
    "# <code style=\"background:white;color:#E2522F\"> SVC with GoogleNews:"
   ]
  },
  {
   "cell_type": "code",
   "execution_count": 31,
   "metadata": {
    "colab": {
     "base_uri": "https://localhost:8080/"
    },
    "id": "l161Go2D8Uxf",
    "outputId": "fb07909e-e612-447e-acee-496667013bc4"
   },
   "outputs": [
    {
     "name": "stdout",
     "output_type": "stream",
     "text": [
      "Classification Report for SGD Classifier with GoogleNews Word2Vec:\n",
      "               precision    recall  f1-score   support\n",
      "\n",
      "           1       0.58      0.36      0.44       524\n",
      "           2       0.00      0.00      0.00       313\n",
      "           3       0.50      0.00      0.00       479\n",
      "           4       0.28      0.03      0.06       844\n",
      "           5       0.68      0.99      0.81      3840\n",
      "\n",
      "    accuracy                           0.67      6000\n",
      "   macro avg       0.41      0.28      0.26      6000\n",
      "weighted avg       0.57      0.67      0.57      6000\n",
      "\n"
     ]
    },
    {
     "name": "stderr",
     "output_type": "stream",
     "text": [
      "/usr/local/lib/python3.10/dist-packages/sklearn/metrics/_classification.py:1344: UndefinedMetricWarning: Precision and F-score are ill-defined and being set to 0.0 in labels with no predicted samples. Use `zero_division` parameter to control this behavior.\n",
      "  _warn_prf(average, modifier, msg_start, len(result))\n",
      "/usr/local/lib/python3.10/dist-packages/sklearn/metrics/_classification.py:1344: UndefinedMetricWarning: Precision and F-score are ill-defined and being set to 0.0 in labels with no predicted samples. Use `zero_division` parameter to control this behavior.\n",
      "  _warn_prf(average, modifier, msg_start, len(result))\n",
      "/usr/local/lib/python3.10/dist-packages/sklearn/metrics/_classification.py:1344: UndefinedMetricWarning: Precision and F-score are ill-defined and being set to 0.0 in labels with no predicted samples. Use `zero_division` parameter to control this behavior.\n",
      "  _warn_prf(average, modifier, msg_start, len(result))\n"
     ]
    }
   ],
   "source": [
    "# Split the GoogleNews Word2Vec mean vectors into training and testing sets\n",
    "X_train, X_test, y_train, y_test = train_test_split(google_w2v_mean_vectors, dataset['Score'], test_size=0.2, random_state=42)\n",
    "\n",
    "# Initialize SGD Classifier\n",
    "sgd_model_google_w2v = SGDClassifier(loss='hinge', max_iter=10000)\n",
    "\n",
    "# Train the model\n",
    "sgd_model_google_w2v.fit(X_train, y_train)\n",
    "\n",
    "# Make predictions on the test set\n",
    "y_pred_google_w2v_sgd = sgd_model_google_w2v.predict(X_test)\n",
    "\n",
    "# Print the classification report\n",
    "print(\"Classification Report for SGD Classifier with GoogleNews Word2Vec:\\n\", classification_report(y_test, y_pred_google_w2v_sgd))"
   ]
  },
  {
   "cell_type": "markdown",
   "metadata": {
    "id": "C6Koo9dt8qYW"
   },
   "source": [
    "# <code style=\"background:white;color:#E2522F\"> Support Vector classfier classification report analysis:\n",
    "- <b>They show better performance compared to Random Forest in terms of minority class classification.<br>\n",
    "- <b>The models still struggle with minority classes, as seen from low macro average F1-scores.<br>\n",
    "- <b>LinearSVC with TFIDFVectorizer appears to be the most balanced approach among the SGD models, achieving the highest accuracy and F1-scores.\n"
   ]
  },
  {
   "cell_type": "markdown",
   "metadata": {
    "id": "lRMs6ZgR800j"
   },
   "source": [
    "# <code style=\"background:white;color:#E2522F\"> Random Forest with CountVectorizer:"
   ]
  },
  {
   "cell_type": "code",
   "execution_count": 32,
   "metadata": {
    "colab": {
     "base_uri": "https://localhost:8080/"
    },
    "id": "YpbPFIGT84D3",
    "outputId": "925beae0-9b61-4d6c-cd11-a9211574d005"
   },
   "outputs": [
    {
     "name": "stdout",
     "output_type": "stream",
     "text": [
      "Classification Report for Random Forest with CountVectorizer:\n",
      "               precision    recall  f1-score   support\n",
      "\n",
      "           1       1.00      0.00      0.01       524\n",
      "           2       0.00      0.00      0.00       313\n",
      "           3       0.00      0.00      0.00       479\n",
      "           4       0.00      0.00      0.00       844\n",
      "           5       0.64      1.00      0.78      3840\n",
      "\n",
      "    accuracy                           0.64      6000\n",
      "   macro avg       0.33      0.20      0.16      6000\n",
      "weighted avg       0.50      0.64      0.50      6000\n",
      "\n"
     ]
    },
    {
     "name": "stderr",
     "output_type": "stream",
     "text": [
      "/usr/local/lib/python3.10/dist-packages/sklearn/metrics/_classification.py:1344: UndefinedMetricWarning: Precision and F-score are ill-defined and being set to 0.0 in labels with no predicted samples. Use `zero_division` parameter to control this behavior.\n",
      "  _warn_prf(average, modifier, msg_start, len(result))\n",
      "/usr/local/lib/python3.10/dist-packages/sklearn/metrics/_classification.py:1344: UndefinedMetricWarning: Precision and F-score are ill-defined and being set to 0.0 in labels with no predicted samples. Use `zero_division` parameter to control this behavior.\n",
      "  _warn_prf(average, modifier, msg_start, len(result))\n",
      "/usr/local/lib/python3.10/dist-packages/sklearn/metrics/_classification.py:1344: UndefinedMetricWarning: Precision and F-score are ill-defined and being set to 0.0 in labels with no predicted samples. Use `zero_division` parameter to control this behavior.\n",
      "  _warn_prf(average, modifier, msg_start, len(result))\n"
     ]
    }
   ],
   "source": [
    "# Random Forest with CountVectorizer\n",
    "from sklearn.ensemble import RandomForestClassifier\n",
    "\n",
    "# Split the CountVectorizer data into training and testing sets\n",
    "X_train, X_test, y_train, y_test = train_test_split(count_vectors, dataset['Score'], test_size=0.2, random_state=42)\n",
    "\n",
    "# Initialize Random Forest Classifier with modified hyperparameters\n",
    "rf_model_count = RandomForestClassifier(n_estimators=50, max_depth=10, max_features='sqrt', random_state=42)\n",
    "\n",
    "# Train the model\n",
    "rf_model_count.fit(X_train, y_train)\n",
    "\n",
    "# Make predictions on the test set\n",
    "y_pred_count_rf = rf_model_count.predict(X_test)\n",
    "\n",
    "# Print the classification report\n",
    "print(\"Classification Report for Random Forest with CountVectorizer:\\n\", classification_report(y_test, y_pred_count_rf))"
   ]
  },
  {
   "cell_type": "markdown",
   "metadata": {},
   "source": [
    "# <code style=\"background:white;color:#E2522F\"> Random Forest with Tf-IDF Vectorizer:"
   ]
  },
  {
   "cell_type": "code",
   "execution_count": 33,
   "metadata": {
    "colab": {
     "base_uri": "https://localhost:8080/"
    },
    "id": "esHClkiL9A-Z",
    "outputId": "76769607-69dd-47ad-a9c9-21cb5ce2930b"
   },
   "outputs": [
    {
     "name": "stdout",
     "output_type": "stream",
     "text": [
      "Classification Report for Random Forest with TFIDFVectorizer:\n",
      "               precision    recall  f1-score   support\n",
      "\n",
      "           1       1.00      0.00      0.01       524\n",
      "           2       0.00      0.00      0.00       313\n",
      "           3       0.00      0.00      0.00       479\n",
      "           4       0.00      0.00      0.00       844\n",
      "           5       0.64      1.00      0.78      3840\n",
      "\n",
      "    accuracy                           0.64      6000\n",
      "   macro avg       0.33      0.20      0.16      6000\n",
      "weighted avg       0.50      0.64      0.50      6000\n",
      "\n"
     ]
    },
    {
     "name": "stderr",
     "output_type": "stream",
     "text": [
      "/usr/local/lib/python3.10/dist-packages/sklearn/metrics/_classification.py:1344: UndefinedMetricWarning: Precision and F-score are ill-defined and being set to 0.0 in labels with no predicted samples. Use `zero_division` parameter to control this behavior.\n",
      "  _warn_prf(average, modifier, msg_start, len(result))\n",
      "/usr/local/lib/python3.10/dist-packages/sklearn/metrics/_classification.py:1344: UndefinedMetricWarning: Precision and F-score are ill-defined and being set to 0.0 in labels with no predicted samples. Use `zero_division` parameter to control this behavior.\n",
      "  _warn_prf(average, modifier, msg_start, len(result))\n",
      "/usr/local/lib/python3.10/dist-packages/sklearn/metrics/_classification.py:1344: UndefinedMetricWarning: Precision and F-score are ill-defined and being set to 0.0 in labels with no predicted samples. Use `zero_division` parameter to control this behavior.\n",
      "  _warn_prf(average, modifier, msg_start, len(result))\n"
     ]
    }
   ],
   "source": [
    "\n",
    "# Applying the Random Forest on Tf-IDF Vectorizer\n",
    "\n",
    "# Split the TFIDFVectorizer data into training and testing sets\n",
    "X_train, X_test, y_train, y_test = train_test_split(tfidf_vectors, dataset['Score'], test_size=0.2, random_state=42)\n",
    "\n",
    "# Initialize Random Forest Classifier with reduced number of trees and limited tree depth\n",
    "rf_model_tfidf = RandomForestClassifier(n_estimators=50, max_depth=10, max_features='sqrt', random_state=42)\n",
    "\n",
    "# Train the model\n",
    "rf_model_tfidf.fit(X_train, y_train)\n",
    "\n",
    "# Make predictions on the test set\n",
    "y_pred_tfidf_rf = rf_model_tfidf.predict(X_test)\n",
    "\n",
    "# Print the classification report\n",
    "print(\"Classification Report for Random Forest with TFIDFVectorizer:\\n\", classification_report(y_test, y_pred_tfidf_rf))\n"
   ]
  },
  {
   "cell_type": "markdown",
   "metadata": {},
   "source": [
    "# <code style=\"background:white;color:#E2522F\"> Random Forest with Word2Vec:"
   ]
  },
  {
   "cell_type": "code",
   "execution_count": 35,
   "metadata": {
    "colab": {
     "base_uri": "https://localhost:8080/"
    },
    "id": "WCO2Ppe69MAY",
    "outputId": "edc3d4cb-4e91-4f14-b024-488790de56d1"
   },
   "outputs": [
    {
     "name": "stdout",
     "output_type": "stream",
     "text": [
      "Classification Report for Random Forest with Word2Vec:\n",
      "               precision    recall  f1-score   support\n",
      "\n",
      "           1       0.58      0.19      0.29       524\n",
      "           2       1.00      0.01      0.01       313\n",
      "           3       1.00      0.01      0.02       479\n",
      "           4       0.75      0.00      0.01       844\n",
      "           5       0.66      1.00      0.79      3840\n",
      "\n",
      "    accuracy                           0.66      6000\n",
      "   macro avg       0.80      0.24      0.22      6000\n",
      "weighted avg       0.71      0.66      0.54      6000\n",
      "\n"
     ]
    }
   ],
   "source": [
    "# Applying the Random Forest on Word2Vec\n",
    "\n",
    "# Split the Word2Vec mean vectors into training and testing sets\n",
    "X_train, X_test, y_train, y_test = train_test_split(word2vec_mean_vectors, dataset['Score'], test_size=0.2, random_state=42)\n",
    "\n",
    "# Initialize Random Forest Classifier with reduced number of trees and limited tree depth\n",
    "rf_model_word2vec = RandomForestClassifier(n_estimators=50, max_depth=10, max_features='sqrt', random_state=42)\n",
    "\n",
    "# Train the model\n",
    "rf_model_word2vec.fit(X_train, y_train)\n",
    "\n",
    "# Make predictions on the test set\n",
    "y_pred_word2vec_rf = rf_model_word2vec.predict(X_test)\n",
    "\n",
    "# Print the classification report\n",
    "print(\"Classification Report for Random Forest with Word2Vec:\\n\", classification_report(y_test, y_pred_word2vec_rf))\n"
   ]
  },
  {
   "cell_type": "markdown",
   "metadata": {},
   "source": [
    "# <code style=\"background:white;color:#E2522F\"> Random Forest with GoogleNews Word2Vec:"
   ]
  },
  {
   "cell_type": "code",
   "execution_count": 36,
   "metadata": {
    "colab": {
     "base_uri": "https://localhost:8080/"
    },
    "id": "nafEtXCy9Yog",
    "outputId": "2302bf0d-2205-4548-b28d-e39050499937"
   },
   "outputs": [
    {
     "name": "stdout",
     "output_type": "stream",
     "text": [
      "Classification Report for Random Forest with GoogleNews Word2Vec:\n",
      "               precision    recall  f1-score   support\n",
      "\n",
      "           1       0.84      0.05      0.10       524\n",
      "           2       1.00      0.00      0.01       313\n",
      "           3       1.00      0.00      0.01       479\n",
      "           4       1.00      0.00      0.01       844\n",
      "           5       0.64      1.00      0.78      3840\n",
      "\n",
      "    accuracy                           0.65      6000\n",
      "   macro avg       0.90      0.21      0.18      6000\n",
      "weighted avg       0.76      0.65      0.51      6000\n",
      "\n"
     ]
    }
   ],
   "source": [
    "# Applying the Random Forest on GoogleNews Word2Vec\n",
    "\n",
    "# Split the GoogleNews Word2Vec mean vectors into training and testing sets\n",
    "X_train, X_test, y_train, y_test = train_test_split(google_w2v_mean_vectors, dataset['Score'], test_size=0.2, random_state=42)\n",
    "\n",
    "# Initialize Random Forest Classifier with reduced number of trees and limited tree depth\n",
    "rf_model_google_w2v = RandomForestClassifier(n_estimators=50, max_depth=10, max_features='sqrt', random_state=42)\n",
    "\n",
    "# Train the model\n",
    "rf_model_google_w2v.fit(X_train, y_train)\n",
    "\n",
    "# Make predictions on the test set\n",
    "y_pred_google_w2v_rf = rf_model_google_w2v.predict(X_test)\n",
    "\n",
    "# Print the classification report\n",
    "print(\"Classification Report for Random Forest with GoogleNews Word2Vec:\\n\", classification_report(y_test, y_pred_google_w2v_rf))"
   ]
  },
  {
   "cell_type": "markdown",
   "metadata": {},
   "source": [
    "# <code style=\"background:white;color:#E2522F\"> Random Forest classfier classification report analysis:\n",
    "- <b>The Word2Vec-based models show slightly better performance compared to CountVectorizer and TFIDFVectorizer, particularly in terms of macro and weighted average F1-scores."
   ]
  },
  {
   "cell_type": "markdown",
   "metadata": {},
   "source": [
    "# <code style=\"background:white;color:#E2522F\"> Comparison & Analysis:"
   ]
  },
  {
   "cell_type": "code",
   "execution_count": 44,
   "metadata": {
    "id": "H62s8wQG9o28"
   },
   "outputs": [],
   "source": [
    "from sklearn.metrics import accuracy_score\n",
    "\n",
    "# Example accuracy calculations (replace the prediction variables with the correct ones from your models)\n",
    "accuracy_rf_count = accuracy_score(y_test, y_pred_count_rf)\n",
    "accuracy_rf_tfidf = accuracy_score(y_test, y_pred_tfidf_rf)\n",
    "accuracy_rf_word2vec = accuracy_score(y_test, y_pred_word2vec_rf)\n",
    "accuracy_rf_google_w2v = accuracy_score(y_test, y_pred_google_w2v_rf)\n",
    "\n",
    "accuracy_svc_count = accuracy_score(y_test,y_pred_count_sgd)\n",
    "accuracy_svc_tfidf = accuracy_score(y_test, y_pred_tfidf_svc)\n",
    "accuracy_svc_word2vec = accuracy_score(y_test, y_pred_word2vec_sgd_random)\n",
    "accuracy_svc_google_w2v = accuracy_score(y_test, y_pred_google_w2v_sgd)\n",
    "\n",
    "accuracy_lr_count = accuracy_score(y_test, y_pred_count)\n",
    "accuracy_lr_tfidf = accuracy_score(y_test, y_pred_tfidf)\n",
    "accuracy_lr_word2vec = accuracy_score(y_test, y_pred_word2vec)\n",
    "accuracy_lr_google_w2v = accuracy_score(y_test, y_pred_google_w2v)"
   ]
  },
  {
   "cell_type": "markdown",
   "metadata": {
    "id": "7Nq_Y90I90vU"
   },
   "source": [
    "# <code style=\"background:white;color:#E2522F\"> Barplot for accuracy comparison:"
   ]
  },
  {
   "cell_type": "code",
   "execution_count": 51,
   "metadata": {
    "colab": {
     "base_uri": "https://localhost:8080/",
     "height": 703
    },
    "id": "e2-07Yh297jF",
    "outputId": "628e7ac8-4ccb-4fdb-c0ba-6ee7720fe437"
   },
   "outputs": [
    {
     "data": {
      "image/png": "[encoded data removed]",
      "text/plain": [
       "<Figure size 1000x800 with 3 Axes>"
      ]
     },
     "metadata": {},
     "output_type": "display_data"
    }
   ],
   "source": [
    "import matplotlib.pyplot as plt\n",
    "import numpy as np\n",
    "\n",
    "models = ['Random Forest', 'SVC', 'Logistic Regression']\n",
    "features = ['Count', 'TF-IDF', 'Word2Vec', 'Google Word2Vec']\n",
    "\n",
    "# Example accuracy values (replace with your accuracy values)\n",
    "accuracy_values = [\n",
    "    [accuracy_rf_count, accuracy_rf_tfidf, accuracy_rf_word2vec, accuracy_rf_google_w2v],\n",
    "    [accuracy_svc_count, accuracy_svc_tfidf, accuracy_svc_word2vec, accuracy_svc_google_w2v],\n",
    "    [accuracy_lr_count, accuracy_lr_tfidf, accuracy_lr_word2vec, accuracy_lr_google_w2v]\n",
    "]\n",
    "\n",
    "num_models = len(models)\n",
    "num_features = len(features)\n",
    "\n",
    "# Choose a color palette with distinct and pleasing colors\n",
    "color_palette = ['#1f77b4', '#ff7f0e', '#2ca02c', '#d62728']\n",
    "\n",
    "fig, axes = plt.subplots(nrows=num_models, ncols=1, figsize=(10, 8))\n",
    "plt.subplots_adjust(hspace=0.5)  # Adjust vertical spacing between subplots\n",
    "\n",
    "for idx, ax in enumerate(axes):\n",
    "    bars = ax.bar(np.arange(num_features), accuracy_values[idx], tick_label=features, color=color_palette)\n",
    "    ax.set_ylim(0, 1)  # Set y-axis range to 0-1 for accuracy values\n",
    "    ax.set_xlabel('Feature Representation')\n",
    "    ax.set_ylabel('Accuracy')\n",
    "    ax.set_title(f'Accuracy Comparison for {models[idx]}')\n",
    "    ax.grid(axis='y')\n",
    "\n",
    "    # Add accuracy values on top of each bar\n",
    "    for bar in bars:\n",
    "        yval = bar.get_height()\n",
    "        ax.text(bar.get_x() + bar.get_width()/2, yval + 0.02, round(yval, 2), ha='center', va='bottom')\n",
    "\n",
    "    # Comment out the legend line to remove it\n",
    "    # ax.legend(models)\n",
    "\n",
    "plt.xticks(rotation=45)\n",
    "plt.tight_layout()\n",
    "plt.show()\n"
   ]
  },
  {
   "cell_type": "markdown",
   "metadata": {},
   "source": [
    "# <code style=\"background:white;color:#E2522F\"> LinePlot:"
   ]
  },
  {
   "cell_type": "code",
   "execution_count": 53,
   "metadata": {
    "colab": {
     "base_uri": "https://localhost:8080/",
     "height": 532
    },
    "id": "j8282odb_liM",
    "outputId": "8b60089f-bdb5-49ec-9cc3-27488012be44"
   },
   "outputs": [
    {
     "data": {
      "image/png": "[encoded data removed]",
      "text/plain": [
       "<Figure size 1000x600 with 1 Axes>"
      ]
     },
     "metadata": {},
     "output_type": "display_data"
    }
   ],
   "source": [
    "import matplotlib.pyplot as plt\n",
    "\n",
    "# Example accuracy values (replace with your accuracy values)\n",
    "accuracy_values_rf = [\n",
    "    accuracy_rf_count, accuracy_rf_tfidf, accuracy_rf_word2vec, accuracy_rf_google_w2v\n",
    "]\n",
    "\n",
    "accuracy_values_svc = [\n",
    "    accuracy_svc_count, accuracy_svc_tfidf, accuracy_svc_word2vec, accuracy_svc_google_w2v\n",
    "]\n",
    "\n",
    "accuracy_values_lr = [\n",
    "    accuracy_lr_count, accuracy_lr_tfidf, accuracy_lr_word2vec, accuracy_lr_google_w2v\n",
    "]\n",
    "\n",
    "fig, ax = plt.subplots(figsize=(10, 6))\n",
    "\n",
    "# Line plot for Random Forest\n",
    "ax.plot(features, accuracy_values_rf, marker='o', label='Random Forest', color='blue')\n",
    "\n",
    "# Line plot for SVC\n",
    "ax.plot(features, accuracy_values_svc, marker='o', label='SVC', color='orange')\n",
    "\n",
    "# Line plot for Logistic Regression\n",
    "ax.plot(features, accuracy_values_lr, marker='o', label='Logistic Regression', color='green')\n",
    "\n",
    "ax.set_xlabel('Feature Representation')\n",
    "ax.set_ylabel('Accuracy')\n",
    "ax.set_title('Accuracy Comparison for Different Models')\n",
    "ax.set_ylim([0, 1])  # Set y-axis range to 0-1 for accuracy values\n",
    "ax.tick_params(axis='x', rotation=45)\n",
    "ax.grid(True)\n",
    "ax.legend()\n",
    "\n",
    "plt.tight_layout()\n",
    "plt.show()\n"
   ]
  },
  {
   "cell_type": "markdown",
   "metadata": {
    "id": "obISPGtxEH0j"
   },
   "source": [
    "# <code style=\"background:white;color:#E2522F\"> Overall Analysis:\n",
    "- <b>All models across different vectorization techniques show a trend of performing well on the majority class and struggling with minority class classification.\n",
    "- <b>TFIDFVectorizer and Word2Vec seem to yield better results compared to CountVectorizer, likely due to their ability to capture semantic relationships or term importance."
   ]
  },
  {
   "cell_type": "markdown",
   "metadata": {},
   "source": [
    "# <code style=\"background:white;color:#E2522F\"> Conclusion:\n",
    "- <b>Logistic regression was overall better performing model than other two models.Logistic regression was consistently better performing with all vectorizer.\n",
    "- <b>TF-IDF was one of the best among all vectorizer model."
   ]
  }
 ],
 "metadata": {
  "colab": {
   "provenance": []
  },
  "kernelspec": {
   "display_name": "Python 3 (ipykernel)",
   "language": "python",
   "name": "python3"
  },
  "language_info": {
   "codemirror_mode": {
    "name": "ipython",
    "version": 3
   },
   "file_extension": ".py",
   "mimetype": "text/x-python",
   "name": "python",
   "nbconvert_exporter": "python",
   "pygments_lexer": "ipython3",
   "version": "3.10.9"
  }
 },
 "nbformat": 4,
 "nbformat_minor": 1
}
